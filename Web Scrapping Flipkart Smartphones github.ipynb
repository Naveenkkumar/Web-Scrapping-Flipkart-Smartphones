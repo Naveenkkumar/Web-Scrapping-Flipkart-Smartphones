{
 "cells": [
  {
   "cell_type": "markdown",
   "id": "35d46a30",
   "metadata": {},
   "source": [
    "# Flipkart Smartphones Analysis"
   ]
  },
  {
   "cell_type": "code",
   "execution_count": 1,
   "id": "57f3cf03",
   "metadata": {},
   "outputs": [],
   "source": [
    "import numpy as np\n",
    "import pandas as pd\n",
    "import matplotlib.pyplot as plt\n",
    "#from selenium import webdriver\n",
    "from bs4 import BeautifulSoup as bs\n",
    "from urllib.request import urlopen\n",
    "import re"
   ]
  },
  {
   "cell_type": "code",
   "execution_count": 2,
   "id": "b494aca4",
   "metadata": {},
   "outputs": [],
   "source": [
    "#using python's inbuilt function urlopen to open a webpage\n",
    "def flipkart_urls():\n",
    "    url_lists = []\n",
    "    base_url = 'https://www.flipkart.com/mobiles/smartphones~type/pr?sid=tyy,4io'\n",
    "    url_lists.append(base_url)\n",
    "    for i in range(2, 42):\n",
    "        suffix = str(i)\n",
    "        url = 'https://www.flipkart.com/mobiles/smartphones~type/pr?sid=tyy%2C4io&page='\n",
    "        url_flip = url + suffix\n",
    "        url_lists.append(url_flip)\n",
    "        \n",
    "    return url_lists\n",
    "\n",
    "url_lists = flipkart_urls()"
   ]
  },
  {
   "cell_type": "code",
   "execution_count": 3,
   "id": "dc605f34",
   "metadata": {},
   "outputs": [
    {
     "name": "stdout",
     "output_type": "stream",
     "text": [
      "https://www.flipkart.com/mobiles/smartphones~type/pr?sid=tyy,4io\n",
      "https://www.flipkart.com/mobiles/smartphones~type/pr?sid=tyy%2C4io&page=2\n",
      "https://www.flipkart.com/mobiles/smartphones~type/pr?sid=tyy%2C4io&page=3\n",
      "https://www.flipkart.com/mobiles/smartphones~type/pr?sid=tyy%2C4io&page=4\n",
      "https://www.flipkart.com/mobiles/smartphones~type/pr?sid=tyy%2C4io&page=5\n",
      "https://www.flipkart.com/mobiles/smartphones~type/pr?sid=tyy%2C4io&page=6\n",
      "https://www.flipkart.com/mobiles/smartphones~type/pr?sid=tyy%2C4io&page=7\n",
      "https://www.flipkart.com/mobiles/smartphones~type/pr?sid=tyy%2C4io&page=8\n",
      "https://www.flipkart.com/mobiles/smartphones~type/pr?sid=tyy%2C4io&page=9\n",
      "https://www.flipkart.com/mobiles/smartphones~type/pr?sid=tyy%2C4io&page=10\n",
      "https://www.flipkart.com/mobiles/smartphones~type/pr?sid=tyy%2C4io&page=11\n",
      "https://www.flipkart.com/mobiles/smartphones~type/pr?sid=tyy%2C4io&page=12\n",
      "https://www.flipkart.com/mobiles/smartphones~type/pr?sid=tyy%2C4io&page=13\n",
      "https://www.flipkart.com/mobiles/smartphones~type/pr?sid=tyy%2C4io&page=14\n",
      "https://www.flipkart.com/mobiles/smartphones~type/pr?sid=tyy%2C4io&page=15\n",
      "https://www.flipkart.com/mobiles/smartphones~type/pr?sid=tyy%2C4io&page=16\n",
      "https://www.flipkart.com/mobiles/smartphones~type/pr?sid=tyy%2C4io&page=17\n",
      "https://www.flipkart.com/mobiles/smartphones~type/pr?sid=tyy%2C4io&page=18\n",
      "https://www.flipkart.com/mobiles/smartphones~type/pr?sid=tyy%2C4io&page=19\n",
      "https://www.flipkart.com/mobiles/smartphones~type/pr?sid=tyy%2C4io&page=20\n",
      "https://www.flipkart.com/mobiles/smartphones~type/pr?sid=tyy%2C4io&page=21\n",
      "https://www.flipkart.com/mobiles/smartphones~type/pr?sid=tyy%2C4io&page=22\n",
      "https://www.flipkart.com/mobiles/smartphones~type/pr?sid=tyy%2C4io&page=23\n",
      "https://www.flipkart.com/mobiles/smartphones~type/pr?sid=tyy%2C4io&page=24\n",
      "https://www.flipkart.com/mobiles/smartphones~type/pr?sid=tyy%2C4io&page=25\n",
      "https://www.flipkart.com/mobiles/smartphones~type/pr?sid=tyy%2C4io&page=26\n",
      "https://www.flipkart.com/mobiles/smartphones~type/pr?sid=tyy%2C4io&page=27\n",
      "https://www.flipkart.com/mobiles/smartphones~type/pr?sid=tyy%2C4io&page=28\n",
      "https://www.flipkart.com/mobiles/smartphones~type/pr?sid=tyy%2C4io&page=29\n",
      "https://www.flipkart.com/mobiles/smartphones~type/pr?sid=tyy%2C4io&page=30\n",
      "https://www.flipkart.com/mobiles/smartphones~type/pr?sid=tyy%2C4io&page=31\n",
      "https://www.flipkart.com/mobiles/smartphones~type/pr?sid=tyy%2C4io&page=32\n",
      "https://www.flipkart.com/mobiles/smartphones~type/pr?sid=tyy%2C4io&page=33\n",
      "https://www.flipkart.com/mobiles/smartphones~type/pr?sid=tyy%2C4io&page=34\n",
      "https://www.flipkart.com/mobiles/smartphones~type/pr?sid=tyy%2C4io&page=35\n",
      "https://www.flipkart.com/mobiles/smartphones~type/pr?sid=tyy%2C4io&page=36\n",
      "https://www.flipkart.com/mobiles/smartphones~type/pr?sid=tyy%2C4io&page=37\n",
      "https://www.flipkart.com/mobiles/smartphones~type/pr?sid=tyy%2C4io&page=38\n",
      "https://www.flipkart.com/mobiles/smartphones~type/pr?sid=tyy%2C4io&page=39\n",
      "https://www.flipkart.com/mobiles/smartphones~type/pr?sid=tyy%2C4io&page=40\n",
      "https://www.flipkart.com/mobiles/smartphones~type/pr?sid=tyy%2C4io&page=41\n"
     ]
    }
   ],
   "source": [
    "def flipkart_scrapping(urls):\n",
    "    name_list = []\n",
    "    price_list = []\n",
    "    ratings_list = []\n",
    "    for url in urls:\n",
    "        page = urlopen(url)\n",
    "        html = page.read().decode('utf-8')\n",
    "        soup = bs(html, 'html.parser')\n",
    "        print(url)\n",
    "        for tag in soup.find_all(name = 'div', attrs = {'class' : '_13oc-S'}):\n",
    "            name = tag.find(name = 'div', attrs = {'class':'_4rR01T'})\n",
    "            price = tag.find(name = 'div', attrs = {'class':'_30jeq3 _1_WHN1'})\n",
    "            ratings = tag.find(name ='div', attrs = {'class':'_3LWZlK'})\n",
    "            \n",
    "            if price is None:\n",
    "                name_val = name.string\n",
    "                ratings_val = ratings.contents[0]\n",
    "\n",
    "                name_list.append(name_val)\n",
    "                price_list.append('NA')\n",
    "                ratings_list.append(ratings_val)\n",
    "                \n",
    "                \n",
    "            elif ratings is None:\n",
    "                name_val = name.string\n",
    "                price_val = price.string\n",
    "                \n",
    "                name_list.append(name_val)\n",
    "                price_list.append(price_val)\n",
    "                ratings_list.append('NA')\n",
    "                \n",
    "            else:\n",
    "                name_val = name.string\n",
    "                price_val = price.string\n",
    "                ratings_val = ratings.contents[0]\n",
    "\n",
    "                name_list.append(name_val)\n",
    "                price_list.append(price_val)\n",
    "                ratings_list.append(ratings_val)\n",
    "\n",
    "                \n",
    "            \n",
    "            \n",
    "    \n",
    "    #name_ser = pd.Series(name_list)\n",
    "    #price_ser = pd.Series(price_list)\n",
    "    #ratings_ser = pd.Series(ratings_list)\n",
    "    flipkart_df = pd.DataFrame({'Product Name': name_list,'Price': price_list, 'Rating': ratings_list})\n",
    "    #flipkart_df.to_csv('location to save file',\n",
    "     #                 index = False, encoding = 'utf-8')\n",
    "    return flipkart_df\n",
    "\n",
    "    \n",
    "df_flip = flipkart_scrapping(urls = url_lists)"
   ]
  },
  {
   "cell_type": "code",
   "execution_count": 4,
   "id": "fbd2bd47",
   "metadata": {},
   "outputs": [
    {
     "data": {
      "text/html": [
       "<div>\n",
       "<style scoped>\n",
       "    .dataframe tbody tr th:only-of-type {\n",
       "        vertical-align: middle;\n",
       "    }\n",
       "\n",
       "    .dataframe tbody tr th {\n",
       "        vertical-align: top;\n",
       "    }\n",
       "\n",
       "    .dataframe thead th {\n",
       "        text-align: right;\n",
       "    }\n",
       "</style>\n",
       "<table border=\"1\" class=\"dataframe\">\n",
       "  <thead>\n",
       "    <tr style=\"text-align: right;\">\n",
       "      <th></th>\n",
       "      <th>Product Name</th>\n",
       "      <th>Price</th>\n",
       "      <th>Rating</th>\n",
       "    </tr>\n",
       "  </thead>\n",
       "  <tbody>\n",
       "    <tr>\n",
       "      <th>0</th>\n",
       "      <td>POCO C31 (Royal Blue, 64 GB)</td>\n",
       "      <td>₹9,999</td>\n",
       "      <td>4.4</td>\n",
       "    </tr>\n",
       "    <tr>\n",
       "      <th>1</th>\n",
       "      <td>realme C20 (Cool Blue, 32 GB)</td>\n",
       "      <td>₹7,499</td>\n",
       "      <td>4.4</td>\n",
       "    </tr>\n",
       "    <tr>\n",
       "      <th>2</th>\n",
       "      <td>realme C20 (Cool Grey, 32 GB)</td>\n",
       "      <td>₹7,499</td>\n",
       "      <td>4.4</td>\n",
       "    </tr>\n",
       "    <tr>\n",
       "      <th>3</th>\n",
       "      <td>POCO C31 (Shadow Gray, 64 GB)</td>\n",
       "      <td>₹10,049</td>\n",
       "      <td>4.4</td>\n",
       "    </tr>\n",
       "    <tr>\n",
       "      <th>4</th>\n",
       "      <td>SAMSUNG Galaxy F22 (Denim Blue, 64 GB)</td>\n",
       "      <td>₹11,999</td>\n",
       "      <td>4.3</td>\n",
       "    </tr>\n",
       "  </tbody>\n",
       "</table>\n",
       "</div>"
      ],
      "text/plain": [
       "                             Product Name    Price Rating\n",
       "0            POCO C31 (Royal Blue, 64 GB)   ₹9,999    4.4\n",
       "1           realme C20 (Cool Blue, 32 GB)   ₹7,499    4.4\n",
       "2           realme C20 (Cool Grey, 32 GB)   ₹7,499    4.4\n",
       "3           POCO C31 (Shadow Gray, 64 GB)  ₹10,049    4.4\n",
       "4  SAMSUNG Galaxy F22 (Denim Blue, 64 GB)  ₹11,999    4.3"
      ]
     },
     "execution_count": 4,
     "metadata": {},
     "output_type": "execute_result"
    }
   ],
   "source": [
    "df_flip.head()"
   ]
  },
  {
   "cell_type": "code",
   "execution_count": 20,
   "id": "7ebcbe88",
   "metadata": {},
   "outputs": [
    {
     "data": {
      "text/plain": [
       "(960, 5)"
      ]
     },
     "execution_count": 20,
     "metadata": {},
     "output_type": "execute_result"
    }
   ],
   "source": [
    "df_flip.shape"
   ]
  },
  {
   "cell_type": "code",
   "execution_count": 5,
   "id": "746cf3f2",
   "metadata": {},
   "outputs": [],
   "source": [
    "def brand_price_format(df):\n",
    "    listt = []\n",
    "    for product in df['Product Name']:\n",
    "        for item in re.finditer('([\\w]*)\\s(.*)', product):\n",
    "            brand = item.group(1)\n",
    "            listt.append(brand)\n",
    "\n",
    "    #print(listt)\n",
    "    df['Brand'] = pd.Series(listt)\n",
    "    \n",
    "    price_list = []\n",
    "    for price in df['Price']:\n",
    "        for item in re.finditer('(.{1,1})(.*)', price):\n",
    "            price1 = item.group(2)\n",
    "            price2 = price1.replace(',','')\n",
    "            #price2 = int(price2)\n",
    "            price_list.append(price2)\n",
    "\n",
    "    #print(price_list)\n",
    "    df['price_int'] = pd.Series(price_list)\n",
    "    \n",
    "    return df\n",
    "\n",
    "df_flip_new = brand_price_format(df_flip)\n",
    "\n",
    "    "
   ]
  },
  {
   "cell_type": "code",
   "execution_count": 6,
   "id": "816a54b3",
   "metadata": {},
   "outputs": [
    {
     "data": {
      "text/html": [
       "<div>\n",
       "<style scoped>\n",
       "    .dataframe tbody tr th:only-of-type {\n",
       "        vertical-align: middle;\n",
       "    }\n",
       "\n",
       "    .dataframe tbody tr th {\n",
       "        vertical-align: top;\n",
       "    }\n",
       "\n",
       "    .dataframe thead th {\n",
       "        text-align: right;\n",
       "    }\n",
       "</style>\n",
       "<table border=\"1\" class=\"dataframe\">\n",
       "  <thead>\n",
       "    <tr style=\"text-align: right;\">\n",
       "      <th></th>\n",
       "      <th>Product Name</th>\n",
       "      <th>Price</th>\n",
       "      <th>Rating</th>\n",
       "      <th>Brand</th>\n",
       "      <th>price_int</th>\n",
       "    </tr>\n",
       "  </thead>\n",
       "  <tbody>\n",
       "    <tr>\n",
       "      <th>0</th>\n",
       "      <td>POCO C31 (Royal Blue, 64 GB)</td>\n",
       "      <td>₹9,999</td>\n",
       "      <td>4.4</td>\n",
       "      <td>POCO</td>\n",
       "      <td>9999</td>\n",
       "    </tr>\n",
       "    <tr>\n",
       "      <th>1</th>\n",
       "      <td>realme C20 (Cool Blue, 32 GB)</td>\n",
       "      <td>₹7,499</td>\n",
       "      <td>4.4</td>\n",
       "      <td>realme</td>\n",
       "      <td>7499</td>\n",
       "    </tr>\n",
       "    <tr>\n",
       "      <th>2</th>\n",
       "      <td>realme C20 (Cool Grey, 32 GB)</td>\n",
       "      <td>₹7,499</td>\n",
       "      <td>4.4</td>\n",
       "      <td>realme</td>\n",
       "      <td>7499</td>\n",
       "    </tr>\n",
       "    <tr>\n",
       "      <th>3</th>\n",
       "      <td>POCO C31 (Shadow Gray, 64 GB)</td>\n",
       "      <td>₹10,049</td>\n",
       "      <td>4.4</td>\n",
       "      <td>POCO</td>\n",
       "      <td>10049</td>\n",
       "    </tr>\n",
       "    <tr>\n",
       "      <th>4</th>\n",
       "      <td>SAMSUNG Galaxy F22 (Denim Blue, 64 GB)</td>\n",
       "      <td>₹11,999</td>\n",
       "      <td>4.3</td>\n",
       "      <td>SAMSUNG</td>\n",
       "      <td>11999</td>\n",
       "    </tr>\n",
       "  </tbody>\n",
       "</table>\n",
       "</div>"
      ],
      "text/plain": [
       "                             Product Name    Price Rating    Brand price_int\n",
       "0            POCO C31 (Royal Blue, 64 GB)   ₹9,999    4.4     POCO      9999\n",
       "1           realme C20 (Cool Blue, 32 GB)   ₹7,499    4.4   realme      7499\n",
       "2           realme C20 (Cool Grey, 32 GB)   ₹7,499    4.4   realme      7499\n",
       "3           POCO C31 (Shadow Gray, 64 GB)  ₹10,049    4.4     POCO     10049\n",
       "4  SAMSUNG Galaxy F22 (Denim Blue, 64 GB)  ₹11,999    4.3  SAMSUNG     11999"
      ]
     },
     "execution_count": 6,
     "metadata": {},
     "output_type": "execute_result"
    }
   ],
   "source": [
    "df_flip_new.head()"
   ]
  },
  {
   "cell_type": "code",
   "execution_count": 7,
   "id": "65913290",
   "metadata": {},
   "outputs": [
    {
     "data": {
      "text/plain": [
       "realme       180\n",
       "SAMSUNG      102\n",
       "REDMI         91\n",
       "OPPO          83\n",
       "Infinix       82\n",
       "vivo          79\n",
       "POCO          72\n",
       "APPLE         70\n",
       "Tecno         42\n",
       "MOTOROLA      37\n",
       "Redmi         34\n",
       "Xiaomi        18\n",
       "Itel          16\n",
       "OnePlus       12\n",
       "Nokia         10\n",
       "LAVA           9\n",
       "Micromax       4\n",
       "Coolpad        3\n",
       "LG             3\n",
       "I              2\n",
       "Moto           2\n",
       "ASUS           2\n",
       "Maplin         2\n",
       "IQOO           1\n",
       "BlackZone      1\n",
       "Apple          1\n",
       "Mi             1\n",
       "Panasonic      1\n",
       "Name: Brand, dtype: int64"
      ]
     },
     "execution_count": 7,
     "metadata": {},
     "output_type": "execute_result"
    }
   ],
   "source": [
    "# finding number of smartphones for each brand on flipkart\n",
    "df_flip_new['Brand'].value_counts()"
   ]
  },
  {
   "cell_type": "code",
   "execution_count": 33,
   "id": "723b78bf",
   "metadata": {},
   "outputs": [],
   "source": [
    "# now some names are same like 'APPLE' and 'Apple' , 'MOTOROLA' and 'Moto' etc. so replacing them with one common name\n",
    "df_flip_new.replace('Apple','APPLE', inplace = True)\n",
    "df_flip_new.replace('Moto', 'MOTOROLA', inplace = True)\n",
    "df_flip_new.replace('Mi','Xiaomi', inplace = True)\n",
    "df_flip_new.replace('Redmi','REDMI', inplace = True)"
   ]
  },
  {
   "cell_type": "code",
   "execution_count": 34,
   "id": "505bc6a3",
   "metadata": {},
   "outputs": [
    {
     "data": {
      "text/plain": [
       "realme       180\n",
       "REDMI        125\n",
       "SAMSUNG      102\n",
       "OPPO          83\n",
       "Infinix       82\n",
       "vivo          79\n",
       "POCO          72\n",
       "APPLE         71\n",
       "Tecno         42\n",
       "MOTOROLA      39\n",
       "Xiaomi        19\n",
       "Itel          16\n",
       "OnePlus       12\n",
       "Nokia         10\n",
       "LAVA           9\n",
       "Micromax       4\n",
       "LG             3\n",
       "Coolpad        3\n",
       "ASUS           2\n",
       "I              2\n",
       "Maplin         2\n",
       "IQOO           1\n",
       "BlackZone      1\n",
       "Panasonic      1\n",
       "Name: Brand, dtype: int64"
      ]
     },
     "execution_count": 34,
     "metadata": {},
     "output_type": "execute_result"
    }
   ],
   "source": [
    "df_flip_new['Brand'].value_counts()"
   ]
  },
  {
   "cell_type": "code",
   "execution_count": 35,
   "id": "34b18166",
   "metadata": {},
   "outputs": [],
   "source": [
    "# ploting bar graph for only those brands whose smartphones are more than or equal to 10\n",
    "top_brands = df_flip_new['Brand'].value_counts()[df_flip_new['Brand'].value_counts() >=10]"
   ]
  },
  {
   "cell_type": "code",
   "execution_count": 53,
   "id": "1cbbd364",
   "metadata": {},
   "outputs": [
    {
     "data": {
      "text/plain": [
       "realme      180\n",
       "REDMI       125\n",
       "SAMSUNG     102\n",
       "OPPO         83\n",
       "Infinix      82\n",
       "vivo         79\n",
       "POCO         72\n",
       "APPLE        71\n",
       "Tecno        42\n",
       "MOTOROLA     39\n",
       "Xiaomi       19\n",
       "Itel         16\n",
       "OnePlus      12\n",
       "Nokia        10\n",
       "Name: Brand, dtype: int64"
      ]
     },
     "execution_count": 53,
     "metadata": {},
     "output_type": "execute_result"
    }
   ],
   "source": [
    "top_brands"
   ]
  },
  {
   "cell_type": "code",
   "execution_count": 37,
   "id": "f2c259e5",
   "metadata": {},
   "outputs": [
    {
     "data": {
      "image/png": "[encoded data removed]",
      "text/plain": [
       "<Figure size 1440x576 with 1 Axes>"
      ]
     },
     "metadata": {
      "needs_background": "light"
     },
     "output_type": "display_data"
    }
   ],
   "source": [
    "plt.figure(figsize = (20,8))\n",
    "plt.bar(top_brands.keys(), top_brands.values)\n",
    "plt.show()"
   ]
  },
  {
   "cell_type": "code",
   "execution_count": 38,
   "id": "6d382ece",
   "metadata": {},
   "outputs": [
    {
     "data": {
      "text/plain": [
       "4.3    322\n",
       "4.4    191\n",
       "4.2    168\n",
       "4.1     88\n",
       "4.5     58\n",
       "4.6     47\n",
       "4       38\n",
       "3.9     19\n",
       "4.7      8\n",
       "3.5      5\n",
       "3.3      4\n",
       "3.6      3\n",
       "NA       2\n",
       "3.7      1\n",
       "3.4      1\n",
       "4.9      1\n",
       "3        1\n",
       "5        1\n",
       "2.8      1\n",
       "3.8      1\n",
       "Name: Rating, dtype: int64"
      ]
     },
     "execution_count": 38,
     "metadata": {},
     "output_type": "execute_result"
    }
   ],
   "source": [
    "df_flip_new['Rating'].value_counts()"
   ]
  },
  {
   "cell_type": "code",
   "execution_count": 39,
   "id": "8d00256e",
   "metadata": {},
   "outputs": [],
   "source": [
    "# Now, there are some missing values in prices, so removing them from dataframe for further analyis\n",
    "df_flip_ana = df_flip_new[df_flip_new['price_int'] != 'A']\n",
    "df_flip_ana = df_flip_ana[df_flip_ana['Rating'] != 'NA']\n",
    "df_flip_ana = df_flip_ana.astype({'price_int': int, 'Rating': float})"
   ]
  },
  {
   "cell_type": "code",
   "execution_count": 40,
   "id": "27449d66",
   "metadata": {},
   "outputs": [
    {
     "data": {
      "text/plain": [
       "Product Name     object\n",
       "Price            object\n",
       "Rating          float64\n",
       "Brand            object\n",
       "price_int         int32\n",
       "dtype: object"
      ]
     },
     "execution_count": 40,
     "metadata": {},
     "output_type": "execute_result"
    }
   ],
   "source": [
    "df_flip_ana.dtypes"
   ]
  },
  {
   "cell_type": "code",
   "execution_count": 41,
   "id": "7cec00f8",
   "metadata": {},
   "outputs": [
    {
     "data": {
      "text/html": [
       "<div>\n",
       "<style scoped>\n",
       "    .dataframe tbody tr th:only-of-type {\n",
       "        vertical-align: middle;\n",
       "    }\n",
       "\n",
       "    .dataframe tbody tr th {\n",
       "        vertical-align: top;\n",
       "    }\n",
       "\n",
       "    .dataframe thead th {\n",
       "        text-align: right;\n",
       "    }\n",
       "</style>\n",
       "<table border=\"1\" class=\"dataframe\">\n",
       "  <thead>\n",
       "    <tr style=\"text-align: right;\">\n",
       "      <th></th>\n",
       "      <th>Product Name</th>\n",
       "      <th>Price</th>\n",
       "      <th>Rating</th>\n",
       "      <th>Brand</th>\n",
       "      <th>price_int</th>\n",
       "    </tr>\n",
       "  </thead>\n",
       "  <tbody>\n",
       "    <tr>\n",
       "      <th>0</th>\n",
       "      <td>POCO C31 (Royal Blue, 64 GB)</td>\n",
       "      <td>₹9,999</td>\n",
       "      <td>4.4</td>\n",
       "      <td>POCO</td>\n",
       "      <td>9999</td>\n",
       "    </tr>\n",
       "    <tr>\n",
       "      <th>1</th>\n",
       "      <td>realme C20 (Cool Blue, 32 GB)</td>\n",
       "      <td>₹7,499</td>\n",
       "      <td>4.4</td>\n",
       "      <td>realme</td>\n",
       "      <td>7499</td>\n",
       "    </tr>\n",
       "    <tr>\n",
       "      <th>2</th>\n",
       "      <td>realme C20 (Cool Grey, 32 GB)</td>\n",
       "      <td>₹7,499</td>\n",
       "      <td>4.4</td>\n",
       "      <td>realme</td>\n",
       "      <td>7499</td>\n",
       "    </tr>\n",
       "    <tr>\n",
       "      <th>3</th>\n",
       "      <td>POCO C31 (Shadow Gray, 64 GB)</td>\n",
       "      <td>₹10,049</td>\n",
       "      <td>4.4</td>\n",
       "      <td>POCO</td>\n",
       "      <td>10049</td>\n",
       "    </tr>\n",
       "    <tr>\n",
       "      <th>4</th>\n",
       "      <td>SAMSUNG Galaxy F22 (Denim Blue, 64 GB)</td>\n",
       "      <td>₹11,999</td>\n",
       "      <td>4.3</td>\n",
       "      <td>SAMSUNG</td>\n",
       "      <td>11999</td>\n",
       "    </tr>\n",
       "  </tbody>\n",
       "</table>\n",
       "</div>"
      ],
      "text/plain": [
       "                             Product Name    Price  Rating    Brand  price_int\n",
       "0            POCO C31 (Royal Blue, 64 GB)   ₹9,999     4.4     POCO       9999\n",
       "1           realme C20 (Cool Blue, 32 GB)   ₹7,499     4.4   realme       7499\n",
       "2           realme C20 (Cool Grey, 32 GB)   ₹7,499     4.4   realme       7499\n",
       "3           POCO C31 (Shadow Gray, 64 GB)  ₹10,049     4.4     POCO      10049\n",
       "4  SAMSUNG Galaxy F22 (Denim Blue, 64 GB)  ₹11,999     4.3  SAMSUNG      11999"
      ]
     },
     "execution_count": 41,
     "metadata": {},
     "output_type": "execute_result"
    }
   ],
   "source": [
    "df_flip_ana.head()"
   ]
  },
  {
   "cell_type": "code",
   "execution_count": 42,
   "id": "7bfeeda6",
   "metadata": {},
   "outputs": [],
   "source": [
    "# Comparing average ratings given to the brands\n",
    "df_grp = df_flip_ana.groupby('Brand')\n",
    "brand_ratings = df_grp['Rating'].agg(np.mean)"
   ]
  },
  {
   "cell_type": "code",
   "execution_count": 58,
   "id": "9e8d2e58",
   "metadata": {},
   "outputs": [
    {
     "data": {
      "text/plain": [
       "Brand\n",
       "APPLE        4.569014\n",
       "ASUS         4.300000\n",
       "BlackZone    3.500000\n",
       "Coolpad      3.433333\n",
       "I            3.150000\n",
       "IQOO         4.900000\n",
       "Infinix      4.309756\n",
       "Itel         4.031250\n",
       "LAVA         4.055556\n",
       "LG           4.033333\n",
       "MOTOROLA     4.123077\n",
       "Maplin       3.200000\n",
       "Micromax     4.075000\n",
       "Nokia        3.910000\n",
       "OPPO         4.320482\n",
       "OnePlus      4.425000\n",
       "POCO         4.275000\n",
       "Panasonic    3.900000\n",
       "REDMI        4.274400\n",
       "SAMSUNG      4.133333\n",
       "Tecno        4.188095\n",
       "Xiaomi       4.200000\n",
       "realme       4.362222\n",
       "vivo         4.326316\n",
       "Name: Rating, dtype: float64"
      ]
     },
     "execution_count": 58,
     "metadata": {},
     "output_type": "execute_result"
    }
   ],
   "source": [
    "brand_ratings"
   ]
  },
  {
   "cell_type": "code",
   "execution_count": 45,
   "id": "bae283a0",
   "metadata": {},
   "outputs": [
    {
     "data": {
      "image/png": "[encoded data removed]",
      "text/plain": [
       "<Figure size 1440x576 with 1 Axes>"
      ]
     },
     "metadata": {
      "needs_background": "light"
     },
     "output_type": "display_data"
    }
   ],
   "source": [
    "plt.figure(figsize = (20,8))\n",
    "plt.bar(brand_ratings.keys(), brand_ratings.values.round(2))\n",
    "plt.show()"
   ]
  },
  {
   "cell_type": "code",
   "execution_count": 51,
   "id": "670f64a3",
   "metadata": {},
   "outputs": [],
   "source": [
    "comb = pd.merge(top_brands, brand_ratings, left_index = True, right_index = True)"
   ]
  },
  {
   "cell_type": "code",
   "execution_count": 65,
   "id": "60f527ae",
   "metadata": {},
   "outputs": [],
   "source": [
    "comb['Rating'] = comb['Rating'] -3"
   ]
  },
  {
   "cell_type": "code",
   "execution_count": 67,
   "id": "c31aecb8",
   "metadata": {},
   "outputs": [
    {
     "data": {
      "text/html": [
       "<div>\n",
       "<style scoped>\n",
       "    .dataframe tbody tr th:only-of-type {\n",
       "        vertical-align: middle;\n",
       "    }\n",
       "\n",
       "    .dataframe tbody tr th {\n",
       "        vertical-align: top;\n",
       "    }\n",
       "\n",
       "    .dataframe thead th {\n",
       "        text-align: right;\n",
       "    }\n",
       "</style>\n",
       "<table border=\"1\" class=\"dataframe\">\n",
       "  <thead>\n",
       "    <tr style=\"text-align: right;\">\n",
       "      <th></th>\n",
       "      <th>Brand</th>\n",
       "      <th>Rating</th>\n",
       "    </tr>\n",
       "  </thead>\n",
       "  <tbody>\n",
       "    <tr>\n",
       "      <th>realme</th>\n",
       "      <td>180</td>\n",
       "      <td>1.362222</td>\n",
       "    </tr>\n",
       "    <tr>\n",
       "      <th>REDMI</th>\n",
       "      <td>125</td>\n",
       "      <td>1.274400</td>\n",
       "    </tr>\n",
       "    <tr>\n",
       "      <th>SAMSUNG</th>\n",
       "      <td>102</td>\n",
       "      <td>1.133333</td>\n",
       "    </tr>\n",
       "    <tr>\n",
       "      <th>OPPO</th>\n",
       "      <td>83</td>\n",
       "      <td>1.320482</td>\n",
       "    </tr>\n",
       "    <tr>\n",
       "      <th>Infinix</th>\n",
       "      <td>82</td>\n",
       "      <td>1.309756</td>\n",
       "    </tr>\n",
       "    <tr>\n",
       "      <th>vivo</th>\n",
       "      <td>79</td>\n",
       "      <td>1.326316</td>\n",
       "    </tr>\n",
       "    <tr>\n",
       "      <th>POCO</th>\n",
       "      <td>72</td>\n",
       "      <td>1.275000</td>\n",
       "    </tr>\n",
       "    <tr>\n",
       "      <th>APPLE</th>\n",
       "      <td>71</td>\n",
       "      <td>1.569014</td>\n",
       "    </tr>\n",
       "    <tr>\n",
       "      <th>Tecno</th>\n",
       "      <td>42</td>\n",
       "      <td>1.188095</td>\n",
       "    </tr>\n",
       "    <tr>\n",
       "      <th>MOTOROLA</th>\n",
       "      <td>39</td>\n",
       "      <td>1.123077</td>\n",
       "    </tr>\n",
       "    <tr>\n",
       "      <th>Xiaomi</th>\n",
       "      <td>19</td>\n",
       "      <td>1.200000</td>\n",
       "    </tr>\n",
       "    <tr>\n",
       "      <th>Itel</th>\n",
       "      <td>16</td>\n",
       "      <td>1.031250</td>\n",
       "    </tr>\n",
       "    <tr>\n",
       "      <th>OnePlus</th>\n",
       "      <td>12</td>\n",
       "      <td>1.425000</td>\n",
       "    </tr>\n",
       "    <tr>\n",
       "      <th>Nokia</th>\n",
       "      <td>10</td>\n",
       "      <td>0.910000</td>\n",
       "    </tr>\n",
       "  </tbody>\n",
       "</table>\n",
       "</div>"
      ],
      "text/plain": [
       "          Brand    Rating\n",
       "realme      180  1.362222\n",
       "REDMI       125  1.274400\n",
       "SAMSUNG     102  1.133333\n",
       "OPPO         83  1.320482\n",
       "Infinix      82  1.309756\n",
       "vivo         79  1.326316\n",
       "POCO         72  1.275000\n",
       "APPLE        71  1.569014\n",
       "Tecno        42  1.188095\n",
       "MOTOROLA     39  1.123077\n",
       "Xiaomi       19  1.200000\n",
       "Itel         16  1.031250\n",
       "OnePlus      12  1.425000\n",
       "Nokia        10  0.910000"
      ]
     },
     "execution_count": 67,
     "metadata": {},
     "output_type": "execute_result"
    }
   ],
   "source": [
    "comb"
   ]
  },
  {
   "cell_type": "code",
   "execution_count": 69,
   "id": "b6fbe611",
   "metadata": {},
   "outputs": [
    {
     "data": {
      "text/plain": [
       "<AxesSubplot:>"
      ]
     },
     "execution_count": 69,
     "metadata": {},
     "output_type": "execute_result"
    },
    {
     "data": {
      "image/png": "[encoded data removed]",
      "text/plain": [
       "<Figure size 1440x576 with 2 Axes>"
      ]
     },
     "metadata": {
      "needs_background": "light"
     },
     "output_type": "display_data"
    }
   ],
   "source": [
    "comb.plot(kind = 'bar', secondary_y = 'Rating', figsize = (20,8))"
   ]
  },
  {
   "cell_type": "markdown",
   "id": "c64b1d09",
   "metadata": {},
   "source": [
    "# Conclusion"
   ]
  },
  {
   "cell_type": "markdown",
   "id": "e92868a4",
   "metadata": {},
   "source": [
    "Although realme has highest number of smartphones listed on flipkart, Apple and oneplus are highest rated smartphones on flipkart."
   ]
  }
 ],
 "metadata": {
  "kernelspec": {
   "display_name": "Python 3 (ipykernel)",
   "language": "python",
   "name": "python3"
  },
  "language_info": {
   "codemirror_mode": {
    "name": "ipython",
    "version": 3
   },
   "file_extension": ".py",
   "mimetype": "text/x-python",
   "name": "python",
   "nbconvert_exporter": "python",
   "pygments_lexer": "ipython3",
   "version": "3.9.4"
  }
 },
 "nbformat": 4,
 "nbformat_minor": 5
}
